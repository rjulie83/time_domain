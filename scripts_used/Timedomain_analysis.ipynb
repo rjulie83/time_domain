{
 "cells": [
  {
   "cell_type": "code",
   "execution_count": 10,
   "metadata": {
    "collapsed": true
   },
   "outputs": [],
   "source": [
    "%matplotlib inline\n",
    "import matplotlib.pyplot as plt\n",
    "import numpy as np\n",
    "import library.timedomain as td\n",
    "import library.fileprocessing as fp\n",
    "import glob,sys\n",
    "from datetime import datetime, date\n",
    "import matplotlib.pyplot as plt\n",
    "import matplotlib.dates as mdates\n",
    "import time\n",
    "import library.phaseprocessing as pp\n",
    "#from progress.bar import Bar\n",
    "\n",
    "c = 299792458\n",
    "\n",
    "def movingaverage (values, window):\n",
    "    weights = np.repeat(1.0, window)/window\n",
    "    sma = np.convolve(values, weights, 'valid')\n",
    "    return sma\n",
    "\n",
    "\n",
    "\n"
   ]
  },
  {
   "cell_type": "markdown",
   "metadata": {},
   "source": [
    "# Process One Multisweep file"
   ]
  },
  {
   "cell_type": "code",
   "execution_count": null,
   "metadata": {
    "collapsed": true
   },
   "outputs": [],
   "source": [
    "#Process one multisweep file\n",
    "\n",
    "F = fp.loadfile_frequency('frequency.txt')\n",
    "timestamps,phase_data = fp.loadfile_multisweep('23-59-13.755439.txt')\n",
    "\n",
    "delay1_single = np.empty(0) \n",
    "delay2_single = np.empty(0)\n",
    "for data in phase_data:\n",
    "    temp_delay1,temp_delay2,temp1,temp2 = td.transform(F,data,overs=1000)\n",
    "    delay1_single = np.append(delay1_single,temp_delay1)\n",
    "    delay2_single = np.append(delay2_single,temp_delay2)"
   ]
  },
  {
   "cell_type": "markdown",
   "metadata": {},
   "source": [
    "# Process File with Reduced data\n",
    "    \n",
    "    "
   ]
  },
  {
   "cell_type": "code",
   "execution_count": 3,
   "metadata": {},
   "outputs": [
    {
     "name": "stdout",
     "output_type": "stream",
     "text": [
      "C:\\Users\\Roufurd\\Documents\n"
     ]
    }
   ],
   "source": [
    "cd .."
   ]
  },
  {
   "cell_type": "code",
   "execution_count": 7,
   "metadata": {},
   "outputs": [
    {
     "name": "stdout",
     "output_type": "stream",
     "text": [
      "C:\\Users\\Roufurd\\Documents\\2017-03-Phase_data\\data\\Exp12-MK36\n"
     ]
    }
   ],
   "source": [
    "cd Exp12-MK36/"
   ]
  },
  {
   "cell_type": "code",
   "execution_count": 5,
   "metadata": {},
   "outputs": [
    {
     "name": "stdout",
     "output_type": "stream",
     "text": [
      " Volume in drive C has no label.\n",
      " Volume Serial Number is 84B2-2B94\n",
      "\n",
      " Directory of C:\\Users\\Roufurd\\Documents\\2017-03-Phase_data\n",
      "\n",
      "2017-05-15  12:26 PM    <DIR>          .\n",
      "2017-05-15  12:26 PM    <DIR>          ..\n",
      "2017-01-20  09:57 AM                87 .~lock.ForDiscovery.odt#\n",
      "2017-03-14  02:19 PM    <DIR>          .ipynb_checkpoints\n",
      "2017-03-14  03:32 PM             1,024 .VNA_File_logging.py.swp\n",
      "2017-05-21  08:58 AM    <DIR>          data\n",
      "2017-04-05  09:55 AM               390 Experiment_register.txt\n",
      "2017-03-15  02:23 PM    <DIR>          old_code\n",
      "2017-03-17  02:07 PM            52,030 phase_data.txt\n",
      "2017-05-04  08:09 PM           194,010 Static-IP-Linux.pdf\n",
      "2017-04-19  11:22 AM    <DIR>          temp_code_file_cant_merge\n",
      "2017-03-22  10:43 AM    <DIR>          time_domain\n",
      "2017-05-04  03:31 PM         1,208,552 VNA_File_logging.ipynb\n",
      "               6 File(s)      1,456,093 bytes\n",
      "               7 Dir(s)  48,917,446,656 bytes free\n"
     ]
    }
   ],
   "source": [
    "ls"
   ]
  },
  {
   "cell_type": "code",
   "execution_count": 8,
   "metadata": {
    "collapsed": true
   },
   "outputs": [],
   "source": [
    "oversampling = 1000\n",
    "#cd ../../phase_work/Exp7/"
   ]
  },
  {
   "cell_type": "code",
   "execution_count": 11,
   "metadata": {},
   "outputs": [],
   "source": [
    "#Process Reduced data results file\n",
    "\n",
    "timestamps = np.empty(0)\n",
    "delay1 = np.empty(0)\n",
    "delay2 = np.empty(0)\n",
    "height1 = np.empty(0)\n",
    "height2 = np.empty(0)\n",
    "data = np.loadtxt('data.csv',dtype='float',delimiter=',',skiprows=1)\n",
    "timestamps = data[:,0];delay1 = data[:,1];height1 = data[:,2];delay2 = data[:,3];height2 = data[:,4]\n",
    "timestamps_offset = timestamps - min(timestamps)"
   ]
  },
  {
   "cell_type": "code",
   "execution_count": 97,
   "metadata": {},
   "outputs": [
    {
     "data": {
      "image/png": "[encoded data removed]",
      "text/plain": [
       "<matplotlib.figure.Figure at 0x6bc154f0>"
      ]
     },
     "metadata": {},
     "output_type": "display_data"
    }
   ],
   "source": [
    "zoomed_slice = slice(0,204622)\n",
    "#offset_temp = 536500\n",
    "plt.figure(figsize=(16,12))\n",
    "plt.plot(timestamps_offset[zoomed_slice],0.5*delay1[zoomed_slice],'b')\n",
    "#plt.plot(timestamps_offset[offset_temp:],0.5*delay1[offset_temp:],'b')\n",
    "plt.grid(True)"
   ]
  },
  {
   "cell_type": "code",
   "execution_count": null,
   "metadata": {
    "collapsed": true
   },
   "outputs": [],
   "source": [
    "#Determine indices where amplitude heights of pulses swopped position and make those points equal to mean delay\n",
    "#This is an artifact of the peak detection code. \n",
    "#Peak detection code algorithm uses pulse amplitude to determine first and second peaks\n",
    "\n",
    "temp_delay1 = np.copy(delay1)\n",
    "temp_delay2 = np.copy(delay2)\n",
    "indices = []\n",
    "counter = 0\n",
    "threshold = 0.01\n",
    "for i in range(len(delay2)-1):\n",
    "    if np.abs(delay2[i+1]-delay2[i]) > threshold:\n",
    "        indices.append(i)\n",
    "        counter+=1        \n",
    "print counter\n",
    "temp_delay1[indices] = np.mean(delay1) \n",
    "temp_delay2[indices] = np.mean(delay2) "
   ]
  },
  {
   "cell_type": "code",
   "execution_count": null,
   "metadata": {
    "collapsed": true
   },
   "outputs": [],
   "source": [
    "#If no re-ordering is required, offset from TIME=0 can be inserted if needed\n",
    "offset = 537525\n",
    "temp_delay1 = np.copy(delay1)[offset:]\n",
    "temp_delay2 = np.copy(delay2)[offset:]\n",
    "timestamps_offset = np.copy(timestamps_offset)[offset:]\n",
    "timestamps = np.copy(timestamps)[offset:]\n",
    "temp_height1 = np.copy(height1)[offset:]\n",
    "temp_height2 = np.copy(height2)[offset:]\n"
   ]
  },
  {
   "cell_type": "code",
   "execution_count": null,
   "metadata": {
    "collapsed": true
   },
   "outputs": [],
   "source": [
    "#Plot Delta delay of First peak of data\n",
    "#This is with data where few out of order peaks were rearranged\n",
    "\n",
    "delta_delay1 = 0.5*(temp_delay1-temp_delay1[0])/c*1e12\n",
    "plt.figure(figsize=(16,12))\n",
    "plt.plot(timestamps_offset,delta_delay1,'b')\n",
    "plt.title('Phase shift [ps], MK_57, KFN+AFN+RFN, Oversampling = %i, Duration = %i hrs' % (oversampling,(timestamps_offset[-1]-timestamps_offset[0])/3600))\n",
    "#plt.title('Phase shift [ps], END OF FIBRE return Pulse, Oversampling = %i' % oversampling)\n",
    "plt.xlabel('TIME [s]'); plt.ylabel('DELTA PHASE [ps]')\n",
    "plt.grid(True)"
   ]
  },
  {
   "cell_type": "code",
   "execution_count": null,
   "metadata": {
    "collapsed": true
   },
   "outputs": [],
   "source": [
    "#Plot Delta delay of Second peak\n",
    "#This is with data where few out of order peaks were rearranged\n",
    "delta_delay2 = 0.5*(temp_delay2-temp_delay2[0])/c*1e12\n",
    "plt.figure(figsize=(16,12))\n",
    "plt.plot(timestamps_offset,delta_delay2,'r')\n",
    "plt.title('Phase shift [ps], MK_57, KFN+AFN, Oversampling = %i, Duration = %i hrs' % (oversampling,(timestamps_offset[-1]-timestamps_offset[0])/3600))\n",
    "#plt.title('Phase shift [ps], MID SPAN return Pulse, Oversampling = %i' % oversampling)\n",
    "plt.xlabel('TIME [s]'); plt.ylabel('DELTA PHASE [ps]')\n",
    "plt.grid(True)"
   ]
  },
  {
   "cell_type": "code",
   "execution_count": null,
   "metadata": {
    "collapsed": true
   },
   "outputs": [],
   "source": [
    "# Plot Amplitude of First peak with Timestamps\n",
    "temp_timestamps = [datetime.fromtimestamp(seconds) for seconds in timestamps]\n",
    "\n",
    "plt.figure(num=None, figsize=(20, 12), dpi=80, facecolor='w', edgecolor='k')\n",
    "plt.gca().xaxis.set_major_formatter(mdates.DateFormatter('%H:%M'))\n",
    "plt.gca().xaxis.set_major_locator(mdates.MinuteLocator(interval=240))\n",
    "plt.plot(mdates.date2num(temp_timestamps),temp_height1,'b')\n",
    "plt.title('Return Pulse Amplitude [dB], MK_57, Duration = %i hrs' % ((timestamps_offset[-1]-timestamps_offset[0])/3600))\n",
    "#plt.title('AMPLITUDE [dB] of MID SPAN Return Pulse, Duration: %0.0fhrs' % float(timestamps_offset[-1]/3600.0))\n",
    "plt.xlabel('TIME'); plt.ylabel('AMPLITUDE [dB]')\n",
    "plt.gcf().autofmt_xdate()\n",
    "plt.grid(True)"
   ]
  },
  {
   "cell_type": "code",
   "execution_count": null,
   "metadata": {
    "collapsed": true
   },
   "outputs": [],
   "source": [
    "zoomed_slice = slice(1500,1600)\n",
    "plt.figure(figsize=(16,12))\n",
    "#plt.subplot(2,1,1)\n",
    "#plt.grid(True)\n",
    "#plt.title('Exp7 Delay [ps] over %0.f hrs , Oversampling = %i' % (((timestamps_offset[zoomed_slice])[-1]-(timestamps_offset[zoomed_slice])[0])/3600,oversampling))\n",
    "#plt.plot(timestamps_offset[zoomed_slice],temp_delay2[zoomed_slice],'r')\n",
    "#plt.subplot(2,1,2)\n",
    "plt.grid(True)\n",
    "plt.title('Exp7 Amplitude [dB] over %0.f hrs' % (((timestamps_offset[zoomed_slice])[-1]-(timestamps_offset[zoomed_slice])[0])/3600))\n",
    "plt.plot(timestamps_offset[zoomed_slice],delta_delay1[zoomed_slice],'g')\n",
    "plt.figure(figsize=(16,12))\n"
   ]
  },
  {
   "cell_type": "code",
   "execution_count": 79,
   "metadata": {},
   "outputs": [
    {
     "name": "stdout",
     "output_type": "stream",
     "text": [
      "(array([204190]),)\n"
     ]
    }
   ],
   "source": [
    "temp_index = np.where(timestamps_offset.astype(int)==(420001))\n",
    "print temp_index"
   ]
  },
  {
   "cell_type": "code",
   "execution_count": 106,
   "metadata": {},
   "outputs": [
    {
     "data": {
      "text/plain": [
       "'2017-04-24 11:38:17'"
      ]
     },
     "execution_count": 106,
     "metadata": {},
     "output_type": "execute_result"
    }
   ],
   "source": [
    "time.strftime('%Y-%m-%d %H:%M:%S', time.localtime(timestamps[204623].astype(int)))"
   ]
  },
  {
   "cell_type": "markdown",
   "metadata": {},
   "source": [
    "PHASE GRADIENT AND OFFSETS"
   ]
  },
  {
   "cell_type": "code",
   "execution_count": null,
   "metadata": {},
   "outputs": [],
   "source": [
    "##CALCULATING DELTA DELAY (MAX-MIN) IN PERIOD\n",
    "delta_delay1 = 0.5*(temp_delay1-temp_delay1[0])/c*1e12\n",
    "stability = pp.offset_calc(timestamps,delta_delay1,minute_window=20)"
   ]
  },
  {
   "cell_type": "code",
   "execution_count": null,
   "metadata": {},
   "outputs": [],
   "source": [
    "plt.figure(num=None, figsize=(20, 12), dpi=80, facecolor='w', edgecolor='k')\n",
    "plt.plot(delta_delay1)"
   ]
  },
  {
   "cell_type": "code",
   "execution_count": null,
   "metadata": {
    "collapsed": true
   },
   "outputs": [],
   "source": [
    "##Plotting MAX-MIN with timestamps and limits\n",
    "\n",
    "temp_timestamps = [datetime.fromtimestamp(seconds) for seconds in stability_timestamps]\n",
    "temp_stability_timestamps = [datetime.fromtimestamp(seconds) for seconds in stability_timestamps]\n",
    "#x_limits = np.ones(len(stability))*2.37\n",
    "#l_limits = np.ones(len(stability))*9.45\n",
    "rts_limits = np.ones(len(stability))*5\n",
    "\n",
    "plt.figure(num=None, figsize=(20, 12), dpi=80, facecolor='w', edgecolor='k')\n",
    "plt.gca().xaxis.set_major_formatter(mdates.DateFormatter('%d/%m %H:%M'))\n",
    "plt.gca().xaxis.set_major_locator(mdates.MinuteLocator(interval=60*12))\n",
    "\n",
    "#plt.plot(mdates.date2num(temp_timestamps),delay1_stability20minutes,'b',mdates.date2num(temp_timestamps),x_limits,'r-',mdates.date2num(temp_timestamps),l_limits,'r-')\n",
    "plt.plot(mdates.date2num(temp_timestamps),stability,'b',mdates.date2num(temp_timestamps),rts_limits,'r-')\n",
    "\n",
    "#plt.title('STABILITY FOR EVERY 20 minute INTERVAL, MAX-MIN in every 20 minute slot, OFN, Oversampling = %i' % oversampling)\n",
    "plt.title('STABILITY FOR EVERY 5 minute INTERVAL, MAX-MIN in every 5 minute slot, KFN+AFN+RFN, Oversampling = %i' % oversampling)\n",
    "#plt.title('STABILITY FOR EVERY 20 minute INTERVAL, %0.0fs MOVING AVERAGE' % (moving_average_window*samplerate))\n",
    "plt.xlabel('TIME [s]'); plt.ylabel('DELTA PHASE IN 5 minutes [ps]')\n",
    "plt.gcf().autofmt_xdate()\n",
    "plt.ylim((0,6))\n",
    "plt.grid(True)"
   ]
  },
  {
   "cell_type": "code",
   "execution_count": null,
   "metadata": {
    "collapsed": true
   },
   "outputs": [],
   "source": [
    "delay1_stability5minutes = np.copy(stability)"
   ]
  },
  {
   "cell_type": "code",
   "execution_count": null,
   "metadata": {
    "collapsed": true
   },
   "outputs": [],
   "source": [
    "timestamps_stability20minutes = np.copy(temp_timestamps)"
   ]
  },
  {
   "cell_type": "code",
   "execution_count": null,
   "metadata": {
    "collapsed": true
   },
   "outputs": [],
   "source": [
    "##Plotting OFFSET AFTER REMOVAL OF GRADIENT with timestamps and limits\n",
    "\n",
    "plt.figure(num=None, figsize=(20, 12), dpi=80, facecolor='w', edgecolor='k')\n",
    "plt.plot(phase_offset_timestamps,phase_offset)\n",
    "plt.grid(True)\n",
    "plt.title('MK_48, KFN+AFN+RFN, PHASE OFFSET [ps] AFTER REMOVING LINEAR GRADIENT, %i minute intervals' % minute_interval)"
   ]
  },
  {
   "cell_type": "markdown",
   "metadata": {},
   "source": [
    "#SCRATCHPAD"
   ]
  },
  {
   "cell_type": "code",
   "execution_count": null,
   "metadata": {
    "collapsed": true
   },
   "outputs": [],
   "source": [
    "#This requires manual tweaking and was a way to remove peaks from graph\n",
    "\n",
    "delta_delay2 = 0.5*(temp_delay2-temp_delay2[0])/c*1e12\n",
    "\n",
    "print delta_delay2[1507], delta_delay2[1508], delta_delay2[1571],delta_delay2[1572]\n",
    "\n",
    "#CHECK WHERE PHASE CHANGE IS HIGHER THAN CERTAIN THRESHOLD\n",
    "threshold = 230\n",
    "temp_reduce = np.where(delta_delay2.astype(int) > threshold)\n",
    "delta_delay2[1508:1572] = (delta_delay2[1507]+delta_delay2[1572])/2\n",
    "delta_delay2[6970:7036] = (delta_delay2[6969]+delta_delay2[7036])/2\n",
    "delta_delay2[36969:36985] = (delta_delay2[36968]+delta_delay2[36985])\n",
    "\n",
    "print delta_delay2[1507], delta_delay2[1508], delta_delay2[1571],delta_delay2[1572]"
   ]
  },
  {
   "cell_type": "code",
   "execution_count": null,
   "metadata": {
    "collapsed": true
   },
   "outputs": [],
   "source": [
    "run ../../time_domain/scripts_used/Filequality.py 23-59-13.794947.txt frequency.txt"
   ]
  },
  {
   "cell_type": "code",
   "execution_count": null,
   "metadata": {
    "collapsed": true
   },
   "outputs": [],
   "source": [
    "ls"
   ]
  },
  {
   "cell_type": "code",
   "execution_count": null,
   "metadata": {
    "collapsed": true
   },
   "outputs": [],
   "source": [
    "#Write important variables to file (save time later)\n",
    "import cPickle as pickle\n",
    "message = \"Exp7, MK48, 163 hours\"\n",
    "variables = '[message,variables,offset,oversampling,temp_delay1,temp_delay2,timestamps_offset,timestamps,temp_height1,temp_height2,delay1_stability5minutes,timestamps_stability5minutes,delay1_stability20minutes,timestamps_stability20minutes]'\n",
    "variables = [message,variables,offset,oversampling,temp_delay1,temp_delay2,timestamps_offset,timestamps,temp_height1,\n",
    "             temp_height2,delay1_stability5minutes,timestamps_stability5minutes,delay1_stability20minutes,timestamps_stability20minutes]\n",
    "pickle.dump(variables,open('object_data.pickle','wb'))\n",
    "\n",
    "\n"
   ]
  },
  {
   "cell_type": "code",
   "execution_count": null,
   "metadata": {
    "collapsed": true
   },
   "outputs": [],
   "source": [
    "ls"
   ]
  },
  {
   "cell_type": "code",
   "execution_count": null,
   "metadata": {
    "collapsed": true
   },
   "outputs": [],
   "source": [
    "import cPickle as pickle\n",
    "\n",
    "variables2 = pickle.load(open('offset_data.dat','rb'))\n",
    "len(variables2)"
   ]
  },
  {
   "cell_type": "code",
   "execution_count": null,
   "metadata": {
    "collapsed": true
   },
   "outputs": [],
   "source": [
    "timestamps_stability20minutes = variables[12]\n",
    "timestamps_stability5minutes = variables[11]\n",
    "delay_stability5minutes = variables[10]\n",
    "temp_delay1 = variables[4]\n",
    "timestamps_offset = variables[6]\n",
    "c = 299792458\n",
    "delta_delay1 = 0.5*(temp_delay1)/c*1e12\n",
    "timestamps = variables[7]\n",
    "\n"
   ]
  },
  {
   "cell_type": "code",
   "execution_count": null,
   "metadata": {
    "collapsed": true
   },
   "outputs": [],
   "source": [
    "phase_offset = variables[0]\n",
    "minute_interval = 5\n",
    "phase_offset_timestamps = variables[1]"
   ]
  },
  {
   "cell_type": "code",
   "execution_count": null,
   "metadata": {
    "collapsed": true
   },
   "outputs": [],
   "source": [
    "cd phase_work/Exp7/"
   ]
  },
  {
   "cell_type": "code",
   "execution_count": null,
   "metadata": {
    "collapsed": true
   },
   "outputs": [],
   "source": [
    "timestamps_offset[0]"
   ]
  },
  {
   "cell_type": "code",
   "execution_count": null,
   "metadata": {
    "collapsed": true
   },
   "outputs": [],
   "source": [
    "offset_timestamps = variables2[2]\n",
    "offset_data = variables2[3]\n",
    "norm_offset_timestamps = variables2[0]\n",
    "norm_offset_data = variables2[1]\n",
    "plt.plot(offset_timestamps,0.5*offset_data/c*1e12,'b',norm_offset_timestamps,0.5*norm_offset_data/c*1e12,'r')\n"
   ]
  },
  {
   "cell_type": "code",
   "execution_count": null,
   "metadata": {
    "collapsed": true
   },
   "outputs": [],
   "source": [
    "num_bins = 20\n",
    "counts,bin_edges = np.histogram(0.5*offset_data/c*1e12,bins=num_bins)#,density=True)\n",
    "cdf = np.cumsum(counts)\n",
    "plt.figure(num=None, figsize=(20, 12), dpi=80, facecolor='w', edgecolor='k')\n",
    "plt.plot(bin_edges[1:],cdf)"
   ]
  },
  {
   "cell_type": "code",
   "execution_count": null,
   "metadata": {
    "collapsed": true
   },
   "outputs": [],
   "source": [
    "np.histogram?"
   ]
  },
  {
   "cell_type": "code",
   "execution_count": null,
   "metadata": {
    "collapsed": true
   },
   "outputs": [],
   "source": [
    "counts"
   ]
  },
  {
   "cell_type": "code",
   "execution_count": null,
   "metadata": {
    "collapsed": true
   },
   "outputs": [],
   "source": []
  }
 ],
 "metadata": {
  "kernelspec": {
   "display_name": "Python 2",
   "language": "python",
   "name": "python2"
  },
  "language_info": {
   "codemirror_mode": {
    "name": "ipython",
    "version": 2
   },
   "file_extension": ".py",
   "mimetype": "text/x-python",
   "name": "python",
   "nbconvert_exporter": "python",
   "pygments_lexer": "ipython2",
   "version": "2.7.13"
  }
 },
 "nbformat": 4,
 "nbformat_minor": 1
}

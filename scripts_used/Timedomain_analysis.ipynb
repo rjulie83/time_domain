{
 "metadata": {
  "name": "",
  "signature": "sha256:3f9cc07c1d29420b55bc2552360ff04a2baa1176d68dc296ca553ab95e7b4454"
 },
 "nbformat": 3,
 "nbformat_minor": 0,
 "worksheets": [
  {
   "cells": [
    {
     "cell_type": "code",
     "collapsed": false,
     "input": [
      "%matplotlib inline\n",
      "import matplotlib.pyplot as plt\n",
      "import numpy as np\n",
      "import library.timedomain as td\n",
      "import library.fileprocessing as fp\n",
      "import glob,sys"
     ],
     "language": "python",
     "metadata": {},
     "outputs": [],
     "prompt_number": 17
    },
    {
     "cell_type": "code",
     "collapsed": false,
     "input": [
      "!ls"
     ],
     "language": "python",
     "metadata": {},
     "outputs": [
      {
       "output_type": "stream",
       "stream": "stdout",
       "text": [
        "Filelogging.py\t\t   TimeDomainAnalysis_multi.py\r\n",
        "Filequality.py\t\t   TimeDomainAnalysis.py\r\n",
        "TimeDomainAnalysis_cal.py  TimeDomainAnalysis_single.py\r\n",
        "Timedomain_analysis.ipynb\r\n"
       ]
      }
     ],
     "prompt_number": 2
    },
    {
     "cell_type": "code",
     "collapsed": false,
     "input": [
      "F = fp.loadfile_frequency('../../phase_work/frequency.txt')\n",
      "timestamps,phase_data = fp.loadfile_multisweep('../../phase_work/08-45-36.510483.txt')"
     ],
     "language": "python",
     "metadata": {},
     "outputs": [],
     "prompt_number": 9
    },
    {
     "cell_type": "code",
     "collapsed": false,
     "input": [
      "delay1 = np.empty(0) \n",
      "delay2 = np.empty(0)\n",
      "for data in phase_data:\n",
      "    temp_delay1,temp_delay2,temp1,temp2 = td.transform(F,data,overs=1000)\n",
      "    delay1 = np.append(delay1,temp_delay1)\n",
      "    delay2 = np.append(delay2,temp_delay2)\n",
      "    \n",
      "    "
     ],
     "language": "python",
     "metadata": {},
     "outputs": [],
     "prompt_number": 19
    },
    {
     "cell_type": "code",
     "collapsed": false,
     "input": [
      "delay1"
     ],
     "language": "python",
     "metadata": {},
     "outputs": [
      {
       "metadata": {},
       "output_type": "pyout",
       "prompt_number": 24,
       "text": [
        "array([ 37.08174503,  37.08167348,  37.08160193,  37.08160193,\n",
        "        37.08167348,  37.08153039,  37.08153039,  37.08167348,\n",
        "        37.08167348,  37.08167348,  37.08167348,  37.08167348,\n",
        "        37.08153039,  37.08153039,  37.08160193,  37.08153039,\n",
        "        37.08160193,  37.08167348,  37.08174503,  37.08167348,\n",
        "        37.08167348,  37.08160193,  37.08167348,  37.08167348,\n",
        "        37.08167348,  37.08167348,  37.08160193,  37.08160193,\n",
        "        37.08174503,  37.08174503,  37.08174503,  37.08167348,\n",
        "        37.08174503,  37.08160193,  37.08160193,  37.08174503,\n",
        "        37.08174503,  37.08160193,  37.08160193,  37.08167348,\n",
        "        37.08174503,  37.08174503,  37.08167348,  37.08160193,\n",
        "        37.08174503,  37.08181658,  37.08174503,  37.08174503,\n",
        "        37.08167348,  37.08167348,  37.08167348,  37.08160193,\n",
        "        37.08167348,  37.08160193,  37.08160193,  37.08167348,\n",
        "        37.08167348,  37.08160193,  37.08181658,  37.08181658,\n",
        "        37.08167348,  37.08160193,  37.08160193,  37.08167348,\n",
        "        37.08174503,  37.08181658,  37.08174503,  37.08181658,\n",
        "        37.08174503,  37.08167348,  37.08167348,  37.08167348,\n",
        "        37.08167348,  37.08181658,  37.08181658,  37.08181658,\n",
        "        37.08174503,  37.08174503,  37.08174503,  37.08174503,\n",
        "        37.08167348,  37.08174503,  37.08167348,  37.08167348,\n",
        "        37.08167348,  37.08167348,  37.08167348,  37.08181658,\n",
        "        37.08181658,  37.08174503,  37.08174503,  37.08174503,\n",
        "        37.08174503,  37.08174503,  37.08174503,  37.08167348,\n",
        "        37.08167348,  37.08167348,  37.08174503,  37.08174503])"
       ]
      }
     ],
     "prompt_number": 24
    },
    {
     "cell_type": "code",
     "collapsed": false,
     "input": [
      "time_offset = [(x - min(timestamps)) for x in timestamps]"
     ],
     "language": "python",
     "metadata": {},
     "outputs": [],
     "prompt_number": 31
    },
    {
     "cell_type": "code",
     "collapsed": false,
     "input": [
      "plt.plot(time_offset,delay1)\n",
      "plt.yticks(np.linspace(min(delay1)*0.999999,max(delay1)*1.000001,num=10))"
     ],
     "language": "python",
     "metadata": {},
     "outputs": [
      {
       "metadata": {},
       "output_type": "pyout",
       "prompt_number": 36,
       "text": [
        "([<matplotlib.axis.YTick at 0xaf554ccc>,\n",
        "  <matplotlib.axis.YTick at 0xb040920c>,\n",
        "  <matplotlib.axis.YTick at 0xaf6c08ec>,\n",
        "  <matplotlib.axis.YTick at 0xaf6ba68c>,\n",
        "  <matplotlib.axis.YTick at 0xaf6b40ac>,\n",
        "  <matplotlib.axis.YTick at 0xaf6a9e6c>,\n",
        "  <matplotlib.axis.YTick at 0xaf7dadcc>,\n",
        "  <matplotlib.axis.YTick at 0xaf5a040c>,\n",
        "  <matplotlib.axis.YTick at 0xaf7366cc>,\n",
        "  <matplotlib.axis.YTick at 0xaf5ed10c>],\n",
        " <a list of 10 Text yticklabel objects>)"
       ]
      },
      {
       "metadata": {},
       "output_type": "display_data",
       "png": "[encoded data removed]",
       "text": [
        "<matplotlib.figure.Figure at 0xaf4ebeac>"
       ]
      }
     ],
     "prompt_number": 36
    },
    {
     "cell_type": "code",
     "collapsed": false,
     "input": [
      "plt.yticks?"
     ],
     "language": "python",
     "metadata": {},
     "outputs": [],
     "prompt_number": 23
    },
    {
     "cell_type": "code",
     "collapsed": false,
     "input": [],
     "language": "python",
     "metadata": {},
     "outputs": []
    },
    {
     "cell_type": "code",
     "collapsed": false,
     "input": [],
     "language": "python",
     "metadata": {},
     "outputs": []
    },
    {
     "cell_type": "code",
     "collapsed": false,
     "input": [
      "td.transform?"
     ],
     "language": "python",
     "metadata": {},
     "outputs": [],
     "prompt_number": 12
    },
    {
     "cell_type": "code",
     "collapsed": false,
     "input": [],
     "language": "python",
     "metadata": {},
     "outputs": []
    },
    {
     "cell_type": "code",
     "collapsed": false,
     "input": [],
     "language": "python",
     "metadata": {},
     "outputs": []
    }
   ],
   "metadata": {}
  }
 ]
}
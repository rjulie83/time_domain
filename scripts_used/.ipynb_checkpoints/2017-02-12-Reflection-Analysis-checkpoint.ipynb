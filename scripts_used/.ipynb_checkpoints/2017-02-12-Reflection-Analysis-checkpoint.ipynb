{
 "cells": [
  {
   "cell_type": "code",
   "execution_count": 1,
   "metadata": {
    "collapsed": true
   },
   "outputs": [],
   "source": [
    "%matplotlib inline\n",
    "import matplotlib.pyplot as plt\n",
    "import numpy as np\n",
    "import library.timedomain as td\n",
    "import library.fileprocessing as fp\n",
    "import glob,sys\n",
    "from datetime import datetime, date\n",
    "import matplotlib.pyplot as plt\n",
    "import matplotlib.dates as mdates\n",
    "import time\n",
    "\n",
    "c = 299792458"
   ]
  },
  {
   "cell_type": "code",
   "execution_count": 2,
   "metadata": {
    "collapsed": false
   },
   "outputs": [
    {
     "name": "stdout",
     "output_type": "stream",
     "text": [
      "C:\\Users\\Roufurd\\Google Drive\\Optical Fibre Network\\SKA SA OFN Dropbox\\Testing Results\\2017-02-12-Time-domain-measurements\n"
     ]
    }
   ],
   "source": [
    "cd C:\\Users\\Roufurd\\Google Drive\\Optical Fibre Network\\SKA SA OFN Dropbox\\Testing Results\\2017-02-12-Time-domain-measurements"
   ]
  },
  {
   "cell_type": "code",
   "execution_count": 44,
   "metadata": {
    "collapsed": false
   },
   "outputs": [],
   "source": [
    "frequency = np.empty(0)\n",
    "S21 = np.empty(0)\n",
    "\n",
    "\n",
    "f = open('printout-13.csv')\n",
    "raw_data = f.readlines()\n",
    "f.close()\n",
    "raw_data = raw_data[3:]\n",
    "\n",
    "for j in raw_data:\n",
    "    temp = [float(i) for i in j.strip('\\t\\n').split('\\t')]\n",
    "    frequency = np.append(frequency,temp[0])\n",
    "    S21 = np.append(S21,temp[1]+1j*temp[2])\n",
    "    \n"
   ]
  },
  {
   "cell_type": "code",
   "execution_count": 46,
   "metadata": {
    "collapsed": false
   },
   "outputs": [
    {
     "data": {
      "text/plain": [
       "[<matplotlib.lines.Line2D at 0xc3a0c50>]"
      ]
     },
     "execution_count": 46,
     "metadata": {},
     "output_type": "execute_result"
    },
    {
     "data": {
      "image/png": "[encoded data removed]",
      "text/plain": [
       "<matplotlib.figure.Figure at 0xcd38a90>"
      ]
     },
     "metadata": {},
     "output_type": "display_data"
    }
   ],
   "source": [
    "plt.plot(frequency,20*np.log(np.abs(S21)))"
   ]
  },
  {
   "cell_type": "code",
   "execution_count": 47,
   "metadata": {
    "collapsed": false
   },
   "outputs": [],
   "source": [
    "#Store current S21 data\n",
    "S21_13 = S21.copy()"
   ]
  },
  {
   "cell_type": "code",
   "execution_count": 48,
   "metadata": {
    "collapsed": true
   },
   "outputs": [],
   "source": [
    "#Formulate list of S21 data\n",
    "Sdata_array = [S21_10,S21_11,S21_12,S21_13]"
   ]
  },
  {
   "cell_type": "code",
   "execution_count": 52,
   "metadata": {
    "collapsed": false
   },
   "outputs": [],
   "source": [
    "distance_info = []\n",
    "for i in Sdata_array:\n",
    "    distance_info.append(td.transform(frequency,i,overs=1000))"
   ]
  },
  {
   "cell_type": "code",
   "execution_count": 53,
   "metadata": {
    "collapsed": false
   },
   "outputs": [
    {
     "data": {
      "text/plain": [
       "[(4.1452514403816938,\n",
       "  4.5033470176312997,\n",
       "  -25.42519782540181,\n",
       "  -53.655322924347317),\n",
       " (4.1443928695671097,\n",
       "  4.5024884468167148,\n",
       "  -25.352566366766695,\n",
       "  -53.5254000881623),\n",
       " (4.1437489414561712,\n",
       "  4.5018445187057763,\n",
       "  -25.334497018085106,\n",
       "  -53.478299509387838),\n",
       " (4.1433912036167611,\n",
       "  4.5014867808663661,\n",
       "  -25.290409992473361,\n",
       "  -53.396904072080204)]"
      ]
     },
     "execution_count": 53,
     "metadata": {},
     "output_type": "execute_result"
    }
   ],
   "source": [
    "distance_info"
   ]
  },
  {
   "cell_type": "code",
   "execution_count": null,
   "metadata": {
    "collapsed": true
   },
   "outputs": [],
   "source": []
  }
 ],
 "metadata": {
  "kernelspec": {
   "display_name": "Python 2",
   "language": "python",
   "name": "python2"
  },
  "language_info": {
   "codemirror_mode": {
    "name": "ipython",
    "version": 2
   },
   "file_extension": ".py",
   "mimetype": "text/x-python",
   "name": "python",
   "nbconvert_exporter": "python",
   "pygments_lexer": "ipython2",
   "version": "2.7.10"
  }
 },
 "nbformat": 4,
 "nbformat_minor": 0
}
